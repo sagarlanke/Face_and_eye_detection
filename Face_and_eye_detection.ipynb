{
 "cells": [
  {
   "cell_type": "code",
   "execution_count": 1,
   "metadata": {},
   "outputs": [],
   "source": [
    "import cv2"
   ]
  },
  {
   "cell_type": "code",
   "execution_count": 2,
   "metadata": {},
   "outputs": [],
   "source": [
    "face_cascade = cv2.CascadeClassifier('haarcascade_frontalface_default.xml')\n",
    "eye_cascade = cv2.CascadeClassifier('haarcascade_eye.xml')"
   ]
  },
  {
   "cell_type": "code",
   "execution_count": 3,
   "metadata": {},
   "outputs": [],
   "source": [
    "# capture = cv2.VideoCapture(0)"
   ]
  },
  {
   "cell_type": "code",
   "execution_count": 5,
   "metadata": {},
   "outputs": [
    {
     "ename": "SyntaxError",
     "evalue": "'break' outside loop (<ipython-input-5-0db98fcaf09c>, line 25)",
     "output_type": "error",
     "traceback": [
      "\u001b[1;36m  File \u001b[1;32m\"<ipython-input-5-0db98fcaf09c>\"\u001b[1;36m, line \u001b[1;32m25\u001b[0m\n\u001b[1;33m    break\u001b[0m\n\u001b[1;37m    ^\u001b[0m\n\u001b[1;31mSyntaxError\u001b[0m\u001b[1;31m:\u001b[0m 'break' outside loop\n"
     ]
    }
   ],
   "source": [
    "# while True:\n",
    "#     status , img = capture.read()\n",
    "img = cv2.imread('sony.jpg')\n",
    "gray = cv2.cvtColor(img, cv2.COLOR_BGR2GRAY)\n",
    "faces = face_cascade.detectMultiScale(img , 1.1 ,4)\n",
    "# count = 0\n",
    "for (x,y,w,h) in faces:\n",
    "    cv2.rectangle(img , (x,y) , (x+w , y+h) , (181,55,251) ,2)\n",
    "#         count+=1\n",
    "    cv2.putText(img, 'Surya' ,(30,70),cv2.FONT_HERSHEY_SIMPLEX ,1, (177,106,57), 2, cv2.LINE_AA)\n",
    "    cv2.putText(img, 'Praveen' ,(190,70),cv2.FONT_HERSHEY_SIMPLEX ,1, (177,106,57), 2, cv2.LINE_AA)\n",
    "#         cv2.putText(img, 'Shannu' ,(20,350),cv2.FONT_HERSHEY_SIMPLEX ,1, (177,106,57), 2, cv2.LINE_AA)\n",
    "#         cv2.putText(img, 'Sony' ,(200,350),cv2.FONT_HERSHEY_SIMPLEX ,1, (177,106,57),2, cv2.LINE_AA)\n",
    "#         cv2.putText(img, str(count) ,(0,100),cv2.FONT_HERSHEY_SIMPLEX ,1, (177,106,57),2, cv2.LINE_AA)\n",
    "    gray_img = gray[y:y+h , x:x+w]\n",
    "    eye_img = img[y:y+h , x:x+w]\n",
    "    eyes = eye_cascade.detectMultiScale(gray_img)\n",
    "    for (ex,ey,ew,eh) in eyes:\n",
    "        cv2.rectangle(eye_img , (ex,ey) ,(ex+ew , ey+eh),(0,255,255) ,2)\n",
    "#     a = str(count)\n",
    "#     cv2.putText(img, str(a) ,(50,50),cv2.FONT_HERSHEY_SIMPLEX ,2, (0,0,255),3, cv2.LINE_AA)\n",
    "cv2.imshow('Sony' , img)\n",
    "k = cv2.waitKey(30) & 0xff\n",
    "if(k==27):\n",
    "        break\n",
    "\n",
    "# print(\"Total no of faces found :\" , count)    \n",
    "# capture.release()\n",
    "cv2.destroyAllWindows()"
   ]
  },
  {
   "cell_type": "code",
   "execution_count": null,
   "metadata": {},
   "outputs": [],
   "source": []
  },
  {
   "cell_type": "code",
   "execution_count": null,
   "metadata": {},
   "outputs": [],
   "source": []
  }
 ],
 "metadata": {
  "kernelspec": {
   "display_name": "Python 3",
   "language": "python",
   "name": "python3"
  },
  "language_info": {
   "codemirror_mode": {
    "name": "ipython",
    "version": 3
   },
   "file_extension": ".py",
   "mimetype": "text/x-python",
   "name": "python",
   "nbconvert_exporter": "python",
   "pygments_lexer": "ipython3",
   "version": "3.6.5"
  }
 },
 "nbformat": 4,
 "nbformat_minor": 2
}
